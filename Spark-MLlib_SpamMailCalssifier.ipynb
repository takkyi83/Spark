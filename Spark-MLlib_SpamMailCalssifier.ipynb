{
 "cells": [
  {
   "cell_type": "markdown",
   "metadata": {},
   "source": [
    "#Spark-MLlib實例——垃圾郵件分類\n",
    "\n",
    "\n",
    "1、垃圾郵件分類，使用Spark-MLlib中的兩個函數： \n",
    "\n",
    "1）HashingTF： 從文本數據構建詞頻（term frequency）特徵向量\n",
    "\n",
    "2）LogisticRegressionWithSGD： 使用隨機梯度下降法（Stochastic Gradient Descent）,實現邏輯回歸。\n"
   ]
  },
  {
   "cell_type": "markdown",
   "metadata": {},
   "source": [
    "2、訓練原數據集\n",
    "\n",
    "垃圾郵件例子 spam.txt\n",
    "\n",
    "非垃圾郵件例子 normal.txt"
   ]
  },
  {
   "cell_type": "code",
   "execution_count": null,
   "metadata": {},
   "outputs": [],
   "source": [
    "from pyspark.mllib.regression import LabeledPoint\n",
    "from pyspark.mllib.feature import HashingTF\n",
    "#from pyspark.mllib.classification import LogisticRegressionWithSGD\n",
    "from pyspark.mllib.classification import LogisticRegressionWithLBFGS\n",
    "\n",
    "# 先把檔案上傳到對應的HDFS資料夾\n",
    "spam = sc.textFile(\"spam.txt\")\n",
    "normal = sc.textFile(\"normal.txt\")\n",
    "\n",
    "# First step, turn raw data into feature vectors = (using feature hashing here; TF stands for \"term frequency\")\n",
    "tf = HashingTF(numFeatures = 1000)\n",
    "\n",
    "# Each email is split into words, and each word is mapped to one feature\n",
    "spamFeatures = (spam.map(lambda email: tf.transform(email.split(\" \"))))\n",
    "normalFeatures = (normal.map(lambda email: tf.transform(email.split(\" \"))))\n",
    "\n",
    "\n",
    "# Now each feature vectored is labeled with a class, using MLLib's LabeledPoint type\n",
    "positives = spamFeatures.map(lambda features: LabeledPoint(1, features))\n",
    "negatives = normalFeatures.map(lambda features: LabeledPoint(0, features))\n",
    "\n",
    "trainingData = positives.union(negatives)\n",
    "trainingData.cache()  # Cache since Logistic Regression is an iterative algorithm\n",
    "\n",
    "\n",
    "# Run Logistic Regression using the SGD algorithm\n",
    "#model = LogisticRegressionWithSGD.train(trainingData)\n",
    "model = LogisticRegressionWithLBFGS.train(trainingData)\n",
    "\n",
    "\n"
   ]
  },
  {
   "cell_type": "code",
   "execution_count": null,
   "metadata": {},
   "outputs": [],
   "source": [
    "type(model)"
   ]
  },
  {
   "cell_type": "code",
   "execution_count": null,
   "metadata": {},
   "outputs": [],
   "source": [
    "# Test on a positive example (spam) and a negative one (normal).\n",
    "# We first apply the same HashingTF feature transformation to get vectors, then apply the model.\n",
    "posTest = tf.transform(\"O M G GET cheap stuff by sending money to ...\".split(\" \"))\n",
    "negTest = tf.transform(\"Dear Dad, Spark is great!  Love, Pat\".split(\" \"))\n",
    "\n",
    "print(\"Prediction for posTest: {0}\".format(model.predict(posTest)))\n",
    "print(\"Prediction for negTest: {0}\".format(model.predict(negTest)))"
   ]
  },
  {
   "cell_type": "code",
   "execution_count": null,
   "metadata": {},
   "outputs": [],
   "source": [
    "posTest1Example = tf.transform(\"I really wish well to all my friends.\".split(\" \"))\n",
    "posTest2Example = tf.transform(\"He stretched into his pocket for some money.\".split(\" \"))\n",
    "posTest3Example = tf.transform(\"He entrusted his money to me.\".split(\" \"))\n",
    "posTest4Example = tf.transform(\"Where do you keep your money?\".split(\" \"))\n",
    "posTest5Example = tf.transform(\"She borrowed some money of me.\".split(\" \"))\n",
    "\n",
    "print(\"Prediction for 1: {0}\".format(model.predict(posTest1Example)))\n",
    "print(\"Prediction for 2: {0}\".format(model.predict(posTest2Example)))\n",
    "print(\"Prediction for 3: {0}\".format(model.predict(posTest3Example)))\n",
    "print(\"Prediction for 4: {0}\".format(model.predict(posTest4Example)))\n",
    "print(\"Prediction for 5: {0}\".format(model.predict(posTest5Example)))"
   ]
  },
  {
   "cell_type": "code",
   "execution_count": null,
   "metadata": {},
   "outputs": [],
   "source": []
  }
 ],
 "metadata": {
  "anaconda-cloud": {},
  "kernelspec": {
   "display_name": "Python 3",
   "language": "python",
   "name": "python3"
  },
  "language_info": {
   "codemirror_mode": {
    "name": "ipython",
    "version": 3
   },
   "file_extension": ".py",
   "mimetype": "text/x-python",
   "name": "python",
   "nbconvert_exporter": "python",
   "pygments_lexer": "ipython3",
   "version": "3.6.5"
  }
 },
 "nbformat": 4,
 "nbformat_minor": 1
}
